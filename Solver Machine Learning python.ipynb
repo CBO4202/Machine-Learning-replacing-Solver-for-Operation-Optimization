{
 "cells": [
  {
   "cell_type": "markdown",
   "id": "0c7cb131-efca-4019-aa23-1689e8375d09",
   "metadata": {},
   "source": [
    "# Replace Solver for Zooter \n",
    "### unit_N, unit_R are the profit for 1 item\n",
    "### pulp is a package created using scipy and numpy handling this type problems"
   ]
  },
  {
   "cell_type": "code",
   "execution_count": 3,
   "id": "25c6fe89-b148-48b4-87c7-5ef625afd3a2",
   "metadata": {},
   "outputs": [
    {
     "name": "stdout",
     "output_type": "stream",
     "text": [
      "Requirement already satisfied: pulp in /Applications/anaconda3/envs/newEnv/lib/python3.11/site-packages (2.8.0)\n"
     ]
    },
    {
     "name": "stderr",
     "output_type": "stream",
     "text": [
      "/Applications/anaconda3/envs/newEnv/lib/python3.11/site-packages/pulp/pulp.py:1316: UserWarning: Spaces are not permitted in the name. Converted to '_'\n",
      "  warnings.warn(\"Spaces are not permitted in the name. Converted to '_'\")\n"
     ]
    },
    {
     "name": "stdout",
     "output_type": "stream",
     "text": [
      "Welcome to the CBC MILP Solver \n",
      "Version: 2.10.3 \n",
      "Build Date: Dec 15 2019 \n",
      "\n",
      "command line - /Applications/anaconda3/envs/newEnv/lib/python3.11/site-packages/pulp/solverdir/cbc/osx/64/cbc /var/folders/59/bpzh77cn7258f0vtn29zls440000gn/T/870915a1d27b4e819af14ad34f9a8799-pulp.mps -max -timeMode elapsed -branch -printingOptions all -solution /var/folders/59/bpzh77cn7258f0vtn29zls440000gn/T/870915a1d27b4e819af14ad34f9a8799-pulp.sol (default strategy 1)\n",
      "At line 2 NAME          MODEL\n",
      "At line 3 ROWS\n",
      "At line 8 COLUMNS\n",
      "At line 21 RHS\n",
      "At line 25 BOUNDS\n",
      "At line 28 ENDATA\n",
      "Problem MODEL has 3 rows, 2 columns and 6 elements\n",
      "Coin0008I MODEL read with 0 errors\n",
      "Option for timeMode changed from cpu to elapsed\n",
      "Continuous objective value is 190300 - 0.00 seconds\n",
      "Cgl0003I 0 fixed, 4 tightened bounds, 0 strengthened rows, 0 substitutions\n",
      "Cgl0004I processed model has 3 rows, 2 columns (2 integer (0 of which binary)) and 6 elements\n",
      "Cutoff increment increased from 1e-05 to 4.9999\n",
      "Cbc0012I Integer solution of -190300 found by DiveCoefficient after 0 iterations and 0 nodes (0.02 seconds)\n",
      "Cbc0001I Search completed - best objective -190300, took 0 iterations and 0 nodes (0.02 seconds)\n",
      "Cbc0035I Maximum depth 0, 0 variables fixed on reduced cost\n",
      "Cuts at root node changed objective from -190300 to -190300\n",
      "Probing was tried 0 times and created 0 cuts of which 0 were active after adding rounds of cuts (0.000 seconds)\n",
      "Gomory was tried 0 times and created 0 cuts of which 0 were active after adding rounds of cuts (0.000 seconds)\n",
      "Knapsack was tried 0 times and created 0 cuts of which 0 were active after adding rounds of cuts (0.000 seconds)\n",
      "Clique was tried 0 times and created 0 cuts of which 0 were active after adding rounds of cuts (0.000 seconds)\n",
      "MixedIntegerRounding2 was tried 0 times and created 0 cuts of which 0 were active after adding rounds of cuts (0.000 seconds)\n",
      "FlowCover was tried 0 times and created 0 cuts of which 0 were active after adding rounds of cuts (0.000 seconds)\n",
      "TwoMirCuts was tried 0 times and created 0 cuts of which 0 were active after adding rounds of cuts (0.000 seconds)\n",
      "ZeroHalf was tried 0 times and created 0 cuts of which 0 were active after adding rounds of cuts (0.000 seconds)\n",
      "\n",
      "Result - Optimal solution found\n",
      "\n",
      "Objective value:                190300.00000000\n",
      "Enumerated nodes:               0\n",
      "Total iterations:               0\n",
      "Time (CPU seconds):             0.00\n",
      "Time (Wallclock seconds):       0.02\n",
      "\n",
      "Option for printingOptions changed from normal to all\n",
      "Total time (CPU seconds):       0.00   (Wallclock seconds):       0.03\n",
      "\n",
      "Status: Optimal\n",
      "Maximal Profit: 190300.0\n",
      "Value of R: 440.0\n",
      "Value of N: 770.0\n"
     ]
    }
   ],
   "source": [
    "!pip install pulp\n",
    "from pulp import *\n",
    "\n",
    "# Define the problem as a maximization problem\n",
    "prob = LpProblem(\"Maximize Profit\", LpMaximize)\n",
    "\n",
    "# Define variables\n",
    "R = LpVariable(\"R\", cat='Integer')  # Number of resources R\n",
    "N = LpVariable(\"N\", cat='Integer')  # Number of resources N\n",
    "\n",
    "# Define the objective function (profit)\n",
    "unit_N = 170\n",
    "Unit_R = 135\n",
    "prob += N * unit_N + R * Unit_R, \"Total Profit\"\n",
    "\n",
    "# Define constraints\n",
    "prob += 4 * R + 5 * N <= 5610, \"Frame Manufacturing Hours\"\n",
    "prob += 1.5 * R + 2.0 * N <= 2200, \"Wheel and Deck Manufacturing Hours\"\n",
    "prob += 1.0 * R + 0.8 * N <= 1200, \"QA and Packaging Hours\"\n",
    "# prob += N + R <= 1400, \"Total Production Limit\"\n",
    "\n",
    "# Solve the problem\n",
    "prob.solve()\n",
    "\n",
    "# Print the results\n",
    "print(\"Status:\", LpStatus[prob.status])\n",
    "print(\"Maximal Profit:\", value(prob.objective))\n",
    "print(\"Value of R:\", value(R))\n",
    "print(\"Value of N:\", value(N))"
   ]
  },
  {
   "cell_type": "markdown",
   "id": "fa371177-76eb-47f2-a0fb-48999406c1ab",
   "metadata": {},
   "source": [
    "# Author\n",
    "### Meghan Beverly"
   ]
  },
  {
   "cell_type": "code",
   "execution_count": null,
   "id": "9eb5d01d-3cd3-4292-85b1-0fb31d890f2a",
   "metadata": {},
   "outputs": [],
   "source": []
  }
 ],
 "metadata": {
  "kernelspec": {
   "display_name": "Python 3 (ipykernel)",
   "language": "python",
   "name": "python3"
  },
  "language_info": {
   "codemirror_mode": {
    "name": "ipython",
    "version": 3
   },
   "file_extension": ".py",
   "mimetype": "text/x-python",
   "name": "python",
   "nbconvert_exporter": "python",
   "pygments_lexer": "ipython3",
   "version": "3.11.8"
  }
 },
 "nbformat": 4,
 "nbformat_minor": 5
}
